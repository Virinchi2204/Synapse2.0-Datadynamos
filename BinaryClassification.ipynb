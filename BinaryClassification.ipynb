{
 "cells": [
  {
   "cell_type": "code",
   "execution_count": 1,
   "metadata": {},
   "outputs": [],
   "source": [
    "import joblib"
   ]
  },
  {
   "cell_type": "code",
   "execution_count": 3,
   "metadata": {},
   "outputs": [],
   "source": [
    "pipeline = joblib.load(r'C:\\Users\\virin\\OneDrive\\Desktop\\Synapse 2.0-Datadynamos\\MultiNB.joblib')"
   ]
  },
  {
   "cell_type": "code",
   "execution_count": null,
   "metadata": {},
   "outputs": [],
   "source": [
    "def classify_input(input_text):\n",
    "    # Preprocess the input text\n",
    "    processed_text = remove_tags(input_text)\n",
    "    processed_text = remove_punc(processed_text)\n",
    "    processed_text = remove_stopwords(processed_text)\n",
    "    \n",
    "    # Use the trained model to predict the label\n",
    "    predicted_label = pipeline.predict([processed_text])\n",
    "    if predicted_label == 1:\n",
    "      print(\"Ai Generated\")\n",
    "    else:\n",
    "      print(\"Human Written\")\n",
    "    \n",
    "    return predicted_label[0]\n",
    "\n",
    "# Example usage:\n",
    "user_input = input(\"Enter text to classify: \")\n",
    "predicted_label = classify_input(user_input)\n",
    "print(\"Predicted label:\", predicted_label)"
   ]
  }
 ],
 "metadata": {
  "kernelspec": {
   "display_name": "Python 3",
   "language": "python",
   "name": "python3"
  },
  "language_info": {
   "codemirror_mode": {
    "name": "ipython",
    "version": 3
   },
   "file_extension": ".py",
   "mimetype": "text/x-python",
   "name": "python",
   "nbconvert_exporter": "python",
   "pygments_lexer": "ipython3",
   "version": "3.10.1"
  }
 },
 "nbformat": 4,
 "nbformat_minor": 2
}
