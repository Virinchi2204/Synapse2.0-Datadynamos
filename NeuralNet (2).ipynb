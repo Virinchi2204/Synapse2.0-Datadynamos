{
  "cells": [
    {
      "cell_type": "code",
      "execution_count": null,
      "metadata": {
        "colab": {
          "base_uri": "https://localhost:8080/"
        },
        "id": "8oGh_f_bMRU7",
        "outputId": "9f0d90b9-7587-4342-fe77-669629a3347a"
      },
      "outputs": [],
      "source": [
        "import numpy as np\n",
        "import pandas as pd\n",
        "import nltk\n",
        "import tensorflow as tf\n",
        "from nltk.corpus import stopwords\n",
        "from nltk.corpus import reuters\n",
        "from nltk.corpus import brown\n",
        "from nltk.corpus import gutenberg\n",
        "from nltk.tokenize import RegexpTokenizer\n",
        "from nltk.stem import SnowballStemmer\n",
        "import matplotlib.pyplot as plt\n",
        "import seaborn as sns\n",
        "import plotly.express as px\n",
        "import pickle\n",
        "import joblib\n",
        "from collections import Counter\n",
        "from sklearn.model_selection import train_test_split\n",
        "from sklearn.model_selection import KFold\n",
        "from sklearn.metrics import accuracy_score, classification_report, confusion_matrix, precision_score, f1_score, recall_score\n",
        "from sklearn.model_selection import cross_val_score, cross_val_predict\n",
        "from sklearn.feature_extraction.text import CountVectorizer, TfidfTransformer\n",
        "from preprocessing.text import Tokenizer\n",
        "from keras.models import Sequential, load_model\n",
        "from keras.callbacks import ModelCheckpoint, EarlyStopping, ReduceLROnPlateau\n",
        "from utils import pad_sequences\n",
        "from keraslayers import Activation, Dense, Embedding, LSTM, SpatialDropout1D, Dropout, Flatten, GRU, Conv1D, MaxPooling1D, Bidirectional\n",
        "from wordcloud import WordCloud,ImageColorGenerator\n",
        "from PIL import Image\n",
        "import urllib\n",
        "import requests\n",
        "import re\n",
        "import ktrain\n",
        "from ktrain import text\n",
        "sns.set()\n",
        "%matplotlib inline\n",
        "nltk.download('stopwords')\n",
        "nltk.download('wordnet')\n",
        "nltk.download('omw-1.4')\n",
        "nltk.download('gutenberg')\n",
        "nltk.download('brown')\n",
        "nltk.download(\"reuters\")\n",
        "nltk.download('words')"
      ]
    },
    {
      "cell_type": "code",
      "execution_count": 2,
      "metadata": {
        "id": "1Y4USedwMfq8"
      },
      "outputs": [],
      "source": [
        "from keras.utils import to_categorical"
      ]
    },
    {
      "cell_type": "code",
      "execution_count": 4,
      "metadata": {
        "id": "jkjdaMxdNckI"
      },
      "outputs": [],
      "source": [
        "json_file = 'subtaskB_train.jsonl'\n",
        "tdf = pd.read_json(json_file, lines=True)\n"
      ]
    },
    {
      "cell_type": "code",
      "execution_count": 5,
      "metadata": {
        "colab": {
          "base_uri": "https://localhost:8080/",
          "height": 363
        },
        "id": "0sfk1LJ_F2zq",
        "outputId": "2cf5304a-a4be-480e-c418-834d3ead2783"
      },
      "outputs": [
        {
          "data": {
            "application/vnd.google.colaboratory.intrinsic+json": {
              "summary": "{\n  \"name\": \"tdf\",\n  \"rows\": 71027,\n  \"fields\": [\n    {\n      \"column\": \"text\",\n      \"properties\": {\n        \"dtype\": \"string\",\n        \"num_unique_values\": 71027,\n        \"samples\": [\n          \"I cannot answer your question to full extent, what I do know is that Stalin expressed the following concerns to the French Communist Party regarding continuing with the communist revolution orientated policies:\\n\\n*\\\"Le camarade Staline explique qu'il a abord\\u00e9 cette question parce qu'il lui semble que les communistes n'ont pas encore compris que la situation a chang\\u00e9 en France. Les communistes n'en tiennent aucun compte et continuent \\u00e0 suivre l'ancienne ligne alors que la situation a chang\\u00e9. [...] La situation est diff\\u00e9rente, nouvelle, favorable \\u00e0 de Gaulle [...] et il faut op\\u00e9rer un tournant. Le PC n'est pas assez fort pour pouvoir frapper le gouvernement \\u00e0 sa t\\u00eate\\\".*\\n\\nIt means that Stalin explained to them that he was not in favor anymore (!!) of such an idea because the French Communists did not understand that the situation in France had changed. He explained it as a situation most favorable to De Gaulle. The French Communist Party would not be strong enough to defeat a government with him as leader.\\n\\nThe reasons why Moscow made this statement towards the French are various, we can take it literally, another reason suggested by other historians [not Buton] was that Stalin did not want to make too much trouble with the Americans [and the Allies in general] at that moment, Russia was winning but suffered heavy losses. Another strong theory was that the dissolution of the Komintern (the organization that advocated World Communism) in 1943 made the Russians worried with including the French Party that it would become highly inflexible leading to problems in both countries. However Buton himself states that Moscow was never dependent on the French Communist party for such an argument and the reason can be most likely found in the quote or statement above wherein he favored De Gaulle at that point and it was a choice of strategic interest serving more the Soviet direct needs. Maybe you can see it as an expression of Realpolitik.\\n\\nA strong argument for Buton's point is that De Gaulle visited Stalin in the Autumn of 1944 after which he proclaimed:\\n\\n*\\\"Ne vous f\\u00e2chez pas de mon indiscr\\u00e9tion ! Je me permets seulement de vous dire que je connais Thorez et, qu\\u2019\\u00e0 mon avis, il est un bon Fran\\u00e7ais. Si j\\u2019\\u00e9tais \\u00e0 votre place, je ne le mettrais pas en prison. Du moins, pas tout de suite ! \\u00bb \\u2014 \\u00ab Le gouvernement fran\\u00e7ais, r\\u00e9pondis-je, traite les Fran\\u00e7ais d\\u2019apr\\u00e8s les services qu\\u2019il attend d\\u2019eux.\\\"*\\n\\nHe says in the above quote more or less that Maurize Thorez, the leader of the French Communist Party, is a Good Frenchman, De Gaulle knows him and sees him as a friend, it is a clear sign of support. The reader should take into account that Thorez was tried in absentia and sentenced to death when he did not fight Germany during the invasion but chose to desert and flee to the Soviet Union, he was pardoned by De Gaulle, an important step for both Maurice Thorez and the French Communist Party because this was for them an important base to work together with Charles De Gaulle from 1944, and Thorez himself even became a vice premier of France.\\n\\n* To large extent the quotes and statements are based upon Philippe Buton's analysis in \\\"Thorez-Staline 1944-1947: penser le communisme fran\\u00e7ais\\\" (1996)\",\n          \"In 1969, Richard Nixon became president of the United States. In his first major act, he issued an executive order creating the Occupational Safety and Health Administration (OSHA). Before OSHA, employers did not have to take steps to protect their employees from exposure to potentially dangerous conditions in the workplace. For example, in 1934, thousands of people were killed or injured when a ammonium carbonate factory in Tennessee exploded. Many of the victims were employees who were exposed to toxic gases. There was no federal agency to ensure workplace safety and health at the time. OSHA was given the authority to create standards to protect worker safety and health. OSHA has existed since 1970 and has expanded its scope of protection over the years. In 1994, OSHA merged with the Federal Safety and Health Administration (FSHA). OSHA now has authority to collect worker safety and health data to determine safety and health issues in the workplace.\",\n          \"We study the charge ordering phenomena in one-dimensional solids by using the exact diagonalization method and density matrix renormalization group (DMRG) technique. We find that there are two types of charge orderings, i.e., stripe-like and checkerboard-like orders depending on the electron filling factor n. The former is realized for 0 < n < 1 while the latter appears at half-filling with spin degeneracy lifted. In addition to these ordered states we also observe an exotic state where electrons form pairs without any net charge. This paired state can be regarded as a precursor of superconductivity. Finally, we discuss possible experimental realizations of our results. Introduction:-In recent years much attention has been paid to the physics of low dimensional systems such as carbon nanotubes [1] , semiconductor nanowires [2] , quantum wires [3] etc.. These materials have attracted considerable interest because they provide us with unique opportunities to explore novel physical properties which cannot exist in conventional three-dimensional bulk materials [4] . For example, it was predicted theoretically [5] and observed experimentally [6] that carbon nanotubes show metallic behavior even though their diameter is comparable or smaller than the Fermi wavelength. Another interesting feature of low dimensional systems is that various kinds of electronic phases may appear due to strong correlation effects [7, 8] .\\nOne of the most important issues in this field is how to control the electronic phase diagram of low dimensional systems. It should be noted here that the electronic structure strongly depends not only on the geometry but also on the chemical composition [9] . Therefore, if we could change the chemical composition of low dimensional systems, then we would expect new electronic phases to emerge. Recently, several groups succeeded in synthesizing low dimensional compounds whose chemical compositions were controlled precisely [10 -12] . As a result, many fascinating phenomena have been discovered [13 -19] .\"\n        ],\n        \"semantic_type\": \"\",\n        \"description\": \"\"\n      }\n    },\n    {\n      \"column\": \"model\",\n      \"properties\": {\n        \"dtype\": \"category\",\n        \"num_unique_values\": 6,\n        \"samples\": [\n          \"chatGPT\",\n          \"human\",\n          \"dolly\"\n        ],\n        \"semantic_type\": \"\",\n        \"description\": \"\"\n      }\n    },\n    {\n      \"column\": \"source\",\n      \"properties\": {\n        \"dtype\": \"category\",\n        \"num_unique_values\": 4,\n        \"samples\": [\n          \"wikipedia\",\n          \"arxiv\",\n          \"wikihow\"\n        ],\n        \"semantic_type\": \"\",\n        \"description\": \"\"\n      }\n    },\n    {\n      \"column\": \"label\",\n      \"properties\": {\n        \"dtype\": \"number\",\n        \"std\": 1,\n        \"min\": 0,\n        \"max\": 5,\n        \"num_unique_values\": 6,\n        \"samples\": [\n          1,\n          0,\n          5\n        ],\n        \"semantic_type\": \"\",\n        \"description\": \"\"\n      }\n    },\n    {\n      \"column\": \"id\",\n      \"properties\": {\n        \"dtype\": \"number\",\n        \"std\": 20503,\n        \"min\": 0,\n        \"max\": 71026,\n        \"num_unique_values\": 71027,\n        \"samples\": [\n          27763,\n          21738,\n          38676\n        ],\n        \"semantic_type\": \"\",\n        \"description\": \"\"\n      }\n    }\n  ]\n}",
              "type": "dataframe",
              "variable_name": "tdf"
            },
            "text/html": [
              "\n",
              "  <div id=\"df-ea62e735-8d72-4469-b494-5341001bc3b2\" class=\"colab-df-container\">\n",
              "    <div>\n",
              "<style scoped>\n",
              "    .dataframe tbody tr th:only-of-type {\n",
              "        vertical-align: middle;\n",
              "    }\n",
              "\n",
              "    .dataframe tbody tr th {\n",
              "        vertical-align: top;\n",
              "    }\n",
              "\n",
              "    .dataframe thead th {\n",
              "        text-align: right;\n",
              "    }\n",
              "</style>\n",
              "<table border=\"1\" class=\"dataframe\">\n",
              "  <thead>\n",
              "    <tr style=\"text-align: right;\">\n",
              "      <th></th>\n",
              "      <th>text</th>\n",
              "      <th>model</th>\n",
              "      <th>source</th>\n",
              "      <th>label</th>\n",
              "      <th>id</th>\n",
              "    </tr>\n",
              "  </thead>\n",
              "  <tbody>\n",
              "    <tr>\n",
              "      <th>0</th>\n",
              "      <td>Forza Motorsport is a popular racing game that...</td>\n",
              "      <td>chatGPT</td>\n",
              "      <td>wikihow</td>\n",
              "      <td>1</td>\n",
              "      <td>0</td>\n",
              "    </tr>\n",
              "    <tr>\n",
              "      <th>1</th>\n",
              "      <td>Buying Virtual Console games for your Nintendo...</td>\n",
              "      <td>chatGPT</td>\n",
              "      <td>wikihow</td>\n",
              "      <td>1</td>\n",
              "      <td>1</td>\n",
              "    </tr>\n",
              "    <tr>\n",
              "      <th>2</th>\n",
              "      <td>Windows NT 4.0 was a popular operating system ...</td>\n",
              "      <td>chatGPT</td>\n",
              "      <td>wikihow</td>\n",
              "      <td>1</td>\n",
              "      <td>2</td>\n",
              "    </tr>\n",
              "    <tr>\n",
              "      <th>3</th>\n",
              "      <td>How to Make Perfume\\n\\nPerfume is a great way ...</td>\n",
              "      <td>chatGPT</td>\n",
              "      <td>wikihow</td>\n",
              "      <td>1</td>\n",
              "      <td>3</td>\n",
              "    </tr>\n",
              "    <tr>\n",
              "      <th>4</th>\n",
              "      <td>How to Convert Song Lyrics to a Song'\\n\\nConve...</td>\n",
              "      <td>chatGPT</td>\n",
              "      <td>wikihow</td>\n",
              "      <td>1</td>\n",
              "      <td>4</td>\n",
              "    </tr>\n",
              "    <tr>\n",
              "      <th>5</th>\n",
              "      <td>How to Fix a Broken Window in a Wooden Frame\\n...</td>\n",
              "      <td>chatGPT</td>\n",
              "      <td>wikihow</td>\n",
              "      <td>1</td>\n",
              "      <td>5</td>\n",
              "    </tr>\n",
              "    <tr>\n",
              "      <th>6</th>\n",
              "      <td>Publishing your WordPress theme on Themeforest...</td>\n",
              "      <td>chatGPT</td>\n",
              "      <td>wikihow</td>\n",
              "      <td>1</td>\n",
              "      <td>6</td>\n",
              "    </tr>\n",
              "    <tr>\n",
              "      <th>7</th>\n",
              "      <td>Building a Railroad Tie Retaining Wall can be ...</td>\n",
              "      <td>chatGPT</td>\n",
              "      <td>wikihow</td>\n",
              "      <td>1</td>\n",
              "      <td>7</td>\n",
              "    </tr>\n",
              "    <tr>\n",
              "      <th>8</th>\n",
              "      <td>Teaching your dog new tricks is a great way to...</td>\n",
              "      <td>chatGPT</td>\n",
              "      <td>wikihow</td>\n",
              "      <td>1</td>\n",
              "      <td>8</td>\n",
              "    </tr>\n",
              "    <tr>\n",
              "      <th>9</th>\n",
              "      <td>Remote Desktop is a useful tool that allows yo...</td>\n",
              "      <td>chatGPT</td>\n",
              "      <td>wikihow</td>\n",
              "      <td>1</td>\n",
              "      <td>9</td>\n",
              "    </tr>\n",
              "  </tbody>\n",
              "</table>\n",
              "</div>\n",
              "    <div class=\"colab-df-buttons\">\n",
              "\n",
              "  <div class=\"colab-df-container\">\n",
              "    <button class=\"colab-df-convert\" onclick=\"convertToInteractive('df-ea62e735-8d72-4469-b494-5341001bc3b2')\"\n",
              "            title=\"Convert this dataframe to an interactive table.\"\n",
              "            style=\"display:none;\">\n",
              "\n",
              "  <svg xmlns=\"http://www.w3.org/2000/svg\" height=\"24px\" viewBox=\"0 -960 960 960\">\n",
              "    <path d=\"M120-120v-720h720v720H120Zm60-500h600v-160H180v160Zm220 220h160v-160H400v160Zm0 220h160v-160H400v160ZM180-400h160v-160H180v160Zm440 0h160v-160H620v160ZM180-180h160v-160H180v160Zm440 0h160v-160H620v160Z\"/>\n",
              "  </svg>\n",
              "    </button>\n",
              "\n",
              "  <style>\n",
              "    .colab-df-container {\n",
              "      display:flex;\n",
              "      gap: 12px;\n",
              "    }\n",
              "\n",
              "    .colab-df-convert {\n",
              "      background-color: #E8F0FE;\n",
              "      border: none;\n",
              "      border-radius: 50%;\n",
              "      cursor: pointer;\n",
              "      display: none;\n",
              "      fill: #1967D2;\n",
              "      height: 32px;\n",
              "      padding: 0 0 0 0;\n",
              "      width: 32px;\n",
              "    }\n",
              "\n",
              "    .colab-df-convert:hover {\n",
              "      background-color: #E2EBFA;\n",
              "      box-shadow: 0px 1px 2px rgba(60, 64, 67, 0.3), 0px 1px 3px 1px rgba(60, 64, 67, 0.15);\n",
              "      fill: #174EA6;\n",
              "    }\n",
              "\n",
              "    .colab-df-buttons div {\n",
              "      margin-bottom: 4px;\n",
              "    }\n",
              "\n",
              "    [theme=dark] .colab-df-convert {\n",
              "      background-color: #3B4455;\n",
              "      fill: #D2E3FC;\n",
              "    }\n",
              "\n",
              "    [theme=dark] .colab-df-convert:hover {\n",
              "      background-color: #434B5C;\n",
              "      box-shadow: 0px 1px 3px 1px rgba(0, 0, 0, 0.15);\n",
              "      filter: drop-shadow(0px 1px 2px rgba(0, 0, 0, 0.3));\n",
              "      fill: #FFFFFF;\n",
              "    }\n",
              "  </style>\n",
              "\n",
              "    <script>\n",
              "      const buttonEl =\n",
              "        document.querySelector('#df-ea62e735-8d72-4469-b494-5341001bc3b2 button.colab-df-convert');\n",
              "      buttonEl.style.display =\n",
              "        google.colab.kernel.accessAllowed ? 'block' : 'none';\n",
              "\n",
              "      async function convertToInteractive(key) {\n",
              "        const element = document.querySelector('#df-ea62e735-8d72-4469-b494-5341001bc3b2');\n",
              "        const dataTable =\n",
              "          await google.colab.kernel.invokeFunction('convertToInteractive',\n",
              "                                                    [key], {});\n",
              "        if (!dataTable) return;\n",
              "\n",
              "        const docLinkHtml = 'Like what you see? Visit the ' +\n",
              "          '<a target=\"_blank\" href=https://colab.research.google.com/notebooks/data_table.ipynb>data table notebook</a>'\n",
              "          + ' to learn more about interactive tables.';\n",
              "        element.innerHTML = '';\n",
              "        dataTable['output_type'] = 'display_data';\n",
              "        await google.colab.output.renderOutput(dataTable, element);\n",
              "        const docLink = document.createElement('div');\n",
              "        docLink.innerHTML = docLinkHtml;\n",
              "        element.appendChild(docLink);\n",
              "      }\n",
              "    </script>\n",
              "  </div>\n",
              "\n",
              "\n",
              "<div id=\"df-30f1cbeb-766a-4722-9595-ce4b40670208\">\n",
              "  <button class=\"colab-df-quickchart\" onclick=\"quickchart('df-30f1cbeb-766a-4722-9595-ce4b40670208')\"\n",
              "            title=\"Suggest charts\"\n",
              "            style=\"display:none;\">\n",
              "\n",
              "<svg xmlns=\"http://www.w3.org/2000/svg\" height=\"24px\"viewBox=\"0 0 24 24\"\n",
              "     width=\"24px\">\n",
              "    <g>\n",
              "        <path d=\"M19 3H5c-1.1 0-2 .9-2 2v14c0 1.1.9 2 2 2h14c1.1 0 2-.9 2-2V5c0-1.1-.9-2-2-2zM9 17H7v-7h2v7zm4 0h-2V7h2v10zm4 0h-2v-4h2v4z\"/>\n",
              "    </g>\n",
              "</svg>\n",
              "  </button>\n",
              "\n",
              "<style>\n",
              "  .colab-df-quickchart {\n",
              "      --bg-color: #E8F0FE;\n",
              "      --fill-color: #1967D2;\n",
              "      --hover-bg-color: #E2EBFA;\n",
              "      --hover-fill-color: #174EA6;\n",
              "      --disabled-fill-color: #AAA;\n",
              "      --disabled-bg-color: #DDD;\n",
              "  }\n",
              "\n",
              "  [theme=dark] .colab-df-quickchart {\n",
              "      --bg-color: #3B4455;\n",
              "      --fill-color: #D2E3FC;\n",
              "      --hover-bg-color: #434B5C;\n",
              "      --hover-fill-color: #FFFFFF;\n",
              "      --disabled-bg-color: #3B4455;\n",
              "      --disabled-fill-color: #666;\n",
              "  }\n",
              "\n",
              "  .colab-df-quickchart {\n",
              "    background-color: var(--bg-color);\n",
              "    border: none;\n",
              "    border-radius: 50%;\n",
              "    cursor: pointer;\n",
              "    display: none;\n",
              "    fill: var(--fill-color);\n",
              "    height: 32px;\n",
              "    padding: 0;\n",
              "    width: 32px;\n",
              "  }\n",
              "\n",
              "  .colab-df-quickchart:hover {\n",
              "    background-color: var(--hover-bg-color);\n",
              "    box-shadow: 0 1px 2px rgba(60, 64, 67, 0.3), 0 1px 3px 1px rgba(60, 64, 67, 0.15);\n",
              "    fill: var(--button-hover-fill-color);\n",
              "  }\n",
              "\n",
              "  .colab-df-quickchart-complete:disabled,\n",
              "  .colab-df-quickchart-complete:disabled:hover {\n",
              "    background-color: var(--disabled-bg-color);\n",
              "    fill: var(--disabled-fill-color);\n",
              "    box-shadow: none;\n",
              "  }\n",
              "\n",
              "  .colab-df-spinner {\n",
              "    border: 2px solid var(--fill-color);\n",
              "    border-color: transparent;\n",
              "    border-bottom-color: var(--fill-color);\n",
              "    animation:\n",
              "      spin 1s steps(1) infinite;\n",
              "  }\n",
              "\n",
              "  @keyframes spin {\n",
              "    0% {\n",
              "      border-color: transparent;\n",
              "      border-bottom-color: var(--fill-color);\n",
              "      border-left-color: var(--fill-color);\n",
              "    }\n",
              "    20% {\n",
              "      border-color: transparent;\n",
              "      border-left-color: var(--fill-color);\n",
              "      border-top-color: var(--fill-color);\n",
              "    }\n",
              "    30% {\n",
              "      border-color: transparent;\n",
              "      border-left-color: var(--fill-color);\n",
              "      border-top-color: var(--fill-color);\n",
              "      border-right-color: var(--fill-color);\n",
              "    }\n",
              "    40% {\n",
              "      border-color: transparent;\n",
              "      border-right-color: var(--fill-color);\n",
              "      border-top-color: var(--fill-color);\n",
              "    }\n",
              "    60% {\n",
              "      border-color: transparent;\n",
              "      border-right-color: var(--fill-color);\n",
              "    }\n",
              "    80% {\n",
              "      border-color: transparent;\n",
              "      border-right-color: var(--fill-color);\n",
              "      border-bottom-color: var(--fill-color);\n",
              "    }\n",
              "    90% {\n",
              "      border-color: transparent;\n",
              "      border-bottom-color: var(--fill-color);\n",
              "    }\n",
              "  }\n",
              "</style>\n",
              "\n",
              "  <script>\n",
              "    async function quickchart(key) {\n",
              "      const quickchartButtonEl =\n",
              "        document.querySelector('#' + key + ' button');\n",
              "      quickchartButtonEl.disabled = true;  // To prevent multiple clicks.\n",
              "      quickchartButtonEl.classList.add('colab-df-spinner');\n",
              "      try {\n",
              "        const charts = await google.colab.kernel.invokeFunction(\n",
              "            'suggestCharts', [key], {});\n",
              "      } catch (error) {\n",
              "        console.error('Error during call to suggestCharts:', error);\n",
              "      }\n",
              "      quickchartButtonEl.classList.remove('colab-df-spinner');\n",
              "      quickchartButtonEl.classList.add('colab-df-quickchart-complete');\n",
              "    }\n",
              "    (() => {\n",
              "      let quickchartButtonEl =\n",
              "        document.querySelector('#df-30f1cbeb-766a-4722-9595-ce4b40670208 button');\n",
              "      quickchartButtonEl.style.display =\n",
              "        google.colab.kernel.accessAllowed ? 'block' : 'none';\n",
              "    })();\n",
              "  </script>\n",
              "</div>\n",
              "\n",
              "    </div>\n",
              "  </div>\n"
            ],
            "text/plain": [
              "                                                text    model   source  label  \\\n",
              "0  Forza Motorsport is a popular racing game that...  chatGPT  wikihow      1   \n",
              "1  Buying Virtual Console games for your Nintendo...  chatGPT  wikihow      1   \n",
              "2  Windows NT 4.0 was a popular operating system ...  chatGPT  wikihow      1   \n",
              "3  How to Make Perfume\\n\\nPerfume is a great way ...  chatGPT  wikihow      1   \n",
              "4  How to Convert Song Lyrics to a Song'\\n\\nConve...  chatGPT  wikihow      1   \n",
              "5  How to Fix a Broken Window in a Wooden Frame\\n...  chatGPT  wikihow      1   \n",
              "6  Publishing your WordPress theme on Themeforest...  chatGPT  wikihow      1   \n",
              "7  Building a Railroad Tie Retaining Wall can be ...  chatGPT  wikihow      1   \n",
              "8  Teaching your dog new tricks is a great way to...  chatGPT  wikihow      1   \n",
              "9  Remote Desktop is a useful tool that allows yo...  chatGPT  wikihow      1   \n",
              "\n",
              "   id  \n",
              "0   0  \n",
              "1   1  \n",
              "2   2  \n",
              "3   3  \n",
              "4   4  \n",
              "5   5  \n",
              "6   6  \n",
              "7   7  \n",
              "8   8  \n",
              "9   9  "
            ]
          },
          "execution_count": 5,
          "metadata": {},
          "output_type": "execute_result"
        }
      ],
      "source": [
        "tdf.head(10)"
      ]
    },
    {
      "cell_type": "code",
      "execution_count": 6,
      "metadata": {
        "id": "kwRM22jXlUXz"
      },
      "outputs": [],
      "source": [
        "df = tdf"
      ]
    },
    {
      "cell_type": "code",
      "execution_count": 7,
      "metadata": {
        "colab": {
          "base_uri": "https://localhost:8080/"
        },
        "id": "_1lI-sapNuGP",
        "outputId": "f1040edf-9d70-4659-94e1-a3284ba0fa85"
      },
      "outputs": [
        {
          "data": {
            "text/plain": [
              "text      0\n",
              "model     0\n",
              "source    0\n",
              "label     0\n",
              "id        0\n",
              "dtype: int64"
            ]
          },
          "execution_count": 7,
          "metadata": {},
          "output_type": "execute_result"
        }
      ],
      "source": [
        "df['text']=df['text'].fillna(\"\")\n",
        "df.isna().sum()"
      ]
    },
    {
      "cell_type": "code",
      "execution_count": 8,
      "metadata": {
        "id": "OEwpIt54SNe8"
      },
      "outputs": [],
      "source": [
        "x_train = df['text']\n",
        "y_train = df['model']\n",
        "\n"
      ]
    },
    {
      "cell_type": "code",
      "execution_count": 9,
      "metadata": {
        "id": "7RMcMu_QzpnN"
      },
      "outputs": [],
      "source": [
        "vocabulary_size = 15000\n",
        "max_text_len = 1000\n"
      ]
    },
    {
      "cell_type": "code",
      "execution_count": 10,
      "metadata": {
        "id": "iXUYVpNlz4XM"
      },
      "outputs": [],
      "source": [
        "def preprocess_text(text):\n",
        "\n",
        "    text = re.sub('[^a-zA-Z]', ' ', text)\n",
        "\n",
        "    words = text.lower().split()\n",
        "\n",
        "    cleaned_text = ' '.join(words)\n",
        "    return cleaned_text\n",
        "\n",
        "df['cleaned_text'] = df['text'].apply(preprocess_text)"
      ]
    },
    {
      "cell_type": "code",
      "execution_count": 11,
      "metadata": {
        "colab": {
          "base_uri": "https://localhost:8080/"
        },
        "id": "TPEapbZnz9wg",
        "outputId": "b1197b7c-67cd-424a-cb58-6cef77eb0a3e"
      },
      "outputs": [
        {
          "name": "stdout",
          "output_type": "stream",
          "text": [
            "264198\n"
          ]
        }
      ],
      "source": [
        "tokenizer = Tokenizer(num_words=vocabulary_size)\n",
        "tokenizer.fit_on_texts(df['text'].values)\n",
        "\n",
        "le = len(tokenizer.word_index) + 1\n",
        "print(le)\n",
        "sequences = tokenizer.texts_to_sequences(df['text'].values)\n",
        "X_DeepLearning = pad_sequences(sequences, maxlen=max_text_len)"
      ]
    },
    {
      "cell_type": "code",
      "execution_count": 12,
      "metadata": {
        "colab": {
          "base_uri": "https://localhost:8080/"
        },
        "id": "D5_TPrzR0FoI",
        "outputId": "805b794e-0251-4c2f-903f-3fe0cd93522e"
      },
      "outputs": [
        {
          "name": "stdout",
          "output_type": "stream",
          "text": [
            "((53270, 1000), (53270, 6), (17757, 1000), (17757, 6))\n"
          ]
        }
      ],
      "source": [
        "df.loc[df['model'] == 'human' , 'LABEL'] = 0\n",
        "df.loc[df['model'] == 'chatGPT', 'LABEL'] = 1\n",
        "df.loc[df['model'] == 'cohere' , 'LABEL'] = 2\n",
        "df.loc[df['model'] == 'davinci', 'LABEL'] = 3\n",
        "df.loc[df['model'] == 'bloomz', 'LABEL'] = 4\n",
        "df.loc[df['model'] == 'dolly', 'LABEL'] = 5\n",
        "\n",
        "labels = to_categorical(df['LABEL'], num_classes=6)\n",
        "XX_train, XX_test, y_train, y_test = train_test_split(X_DeepLearning , labels, test_size=0.25, random_state=42)\n",
        "print((XX_train.shape, y_train.shape, XX_test.shape, y_test.shape))"
      ]
    },
    {
      "cell_type": "code",
      "execution_count": 15,
      "metadata": {
        "colab": {
          "base_uri": "https://localhost:8080/"
        },
        "id": "VAuN5mJy0fyQ",
        "outputId": "3065484d-2a06-491c-8604-7d82b4f8a60b"
      },
      "outputs": [
        {
          "name": "stdout",
          "output_type": "stream",
          "text": [
            "Model: \"sequential_1\"\n",
            "_________________________________________________________________\n",
            " Layer (type)                Output Shape              Param #   \n",
            "=================================================================\n",
            " embedding_1 (Embedding)     (None, 1000, 256)         3840000   \n",
            "                                                                 \n",
            " spatial_dropout1d_1 (Spati  (None, 1000, 256)         0         \n",
            " alDropout1D)                                                    \n",
            "                                                                 \n",
            " conv1d_2 (Conv1D)           (None, 1000, 64)          98368     \n",
            "                                                                 \n",
            " max_pooling1d_2 (MaxPoolin  (None, 500, 64)           0         \n",
            " g1D)                                                            \n",
            "                                                                 \n",
            " conv1d_3 (Conv1D)           (None, 495, 32)           12320     \n",
            "                                                                 \n",
            " max_pooling1d_3 (MaxPoolin  (None, 247, 32)           0         \n",
            " g1D)                                                            \n",
            "                                                                 \n",
            " bidirectional_2 (Bidirecti  (None, 247, 200)          106400    \n",
            " onal)                                                           \n",
            "                                                                 \n",
            " dropout_3 (Dropout)         (None, 247, 200)          0         \n",
            "                                                                 \n",
            " bidirectional_3 (Bidirecti  (None, 247, 800)          1923200   \n",
            " onal)                                                           \n",
            "                                                                 \n",
            " dropout_4 (Dropout)         (None, 247, 800)          0         \n",
            "                                                                 \n",
            " global_max_pooling1d_1 (Gl  (None, 800)               0         \n",
            " obalMaxPooling1D)                                               \n",
            "                                                                 \n",
            " dense_2 (Dense)             (None, 64)                51264     \n",
            "                                                                 \n",
            " dropout_5 (Dropout)         (None, 64)                0         \n",
            "                                                                 \n",
            " dense_3 (Dense)             (None, 6)                 390       \n",
            "                                                                 \n",
            "=================================================================\n",
            "Total params: 6031942 (23.01 MB)\n",
            "Trainable params: 6031942 (23.01 MB)\n",
            "Non-trainable params: 0 (0.00 Byte)\n",
            "_________________________________________________________________\n",
            "None\n"
          ]
        }
      ],
      "source": [
        "from keras.layers import GlobalMaxPooling1D\n",
        "\n",
        "# Assuming X_DeepLearning has shape (num_samples, max_text_len) where max_text_len is the length of each text sequence\n",
        "max_text_len = X_DeepLearning.shape[1]\n",
        "\n",
        "epochs = 7\n",
        "emb_dim = 256\n",
        "batch_size = 128\n",
        "\n",
        "model_cl = Sequential()\n",
        "model_cl.add(Embedding(vocabulary_size, emb_dim, input_length=max_text_len))\n",
        "model_cl.add(SpatialDropout1D(0.8))\n",
        "model_cl.add(Conv1D(filters=64, kernel_size=6, padding='same', activation='relu'))\n",
        "model_cl.add(MaxPooling1D(pool_size=2))\n",
        "model_cl.add(Conv1D(filters=32, kernel_size=6, activation='relu'))\n",
        "model_cl.add(MaxPooling1D(pool_size=2))\n",
        "model_cl.add(Bidirectional(LSTM(100, dropout=0.5, recurrent_dropout=0.5, return_sequences=True)))\n",
        "model_cl.add(Dropout(0.5))\n",
        "model_cl.add(Bidirectional(LSTM(400, dropout=0.5, recurrent_dropout=0.5, return_sequences=True)))\n",
        "model_cl.add(Dropout(0.5))\n",
        "model_cl.add(GlobalMaxPooling1D())  # Global Max Pooling instead of Flatten\n",
        "model_cl.add(Dense(64, activation='relu'))\n",
        "model_cl.add(Dropout(0.5))\n",
        "model_cl.add(Dense(6, activation='softmax'))  # Output layer with softmax for multi-class classification\n",
        "\n",
        "model_cl.compile(optimizer='adam', loss='categorical_crossentropy', metrics=['acc'])\n",
        "print(model_cl.summary())\n"
      ]
    },
    {
      "cell_type": "code",
      "execution_count": 16,
      "metadata": {
        "id": "z1UABmoK0m-V"
      },
      "outputs": [],
      "source": [
        "checkpoint_callback = ModelCheckpoint(filepath=\"cnn+lastm-best_model.h5\", save_best_only=True, monitor=\"val_acc\", mode=\"max\", verbose=1)\n",
        "\n",
        "early_stopping_callback = EarlyStopping(monitor=\"val_acc\", mode=\"max\", patience=10, verbose=1, restore_best_weights=True)\n",
        "\n",
        "reduce_lr_callback = ReduceLROnPlateau(monitor=\"val_loss\", factor=0.1, patience=5, verbose=1, mode=\"min\", min_delta=0.0001, cooldown=0, min_lr=0)\n",
        "\n",
        "callbacks=[checkpoint_callback, early_stopping_callback, reduce_lr_callback]\n"
      ]
    },
    {
      "cell_type": "code",
      "execution_count": 17,
      "metadata": {
        "colab": {
          "base_uri": "https://localhost:8080/"
        },
        "id": "50rT3w8E0utE",
        "outputId": "f66a9fe1-2f00-4494-99e8-233b04c57b76"
      },
      "outputs": [
        {
          "name": "stdout",
          "output_type": "stream",
          "text": [
            "Epoch 1/7\n",
            "333/333 [==============================] - ETA: 0s - loss: 1.5513 - acc: 0.3003\n",
            "Epoch 1: val_acc improved from -inf to 0.40436, saving model to cnn+lastm-best_model.h5\n"
          ]
        },
        {
          "name": "stderr",
          "output_type": "stream",
          "text": [
            "/usr/local/lib/python3.10/dist-packages/keras/src/engine/training.py:3103: UserWarning: You are saving your model as an HDF5 file via `model.save()`. This file format is considered legacy. We recommend using instead the native Keras format, e.g. `model.save('my_model.keras')`.\n",
            "  saving_api.save_model(\n"
          ]
        },
        {
          "name": "stdout",
          "output_type": "stream",
          "text": [
            "\b\b\b\b\b\b\b\b\b\b\b\b\b\b\b\b\b\b\b\b\b\b\b\b\b\b\b\b\b\b\b\b\b\b\b\b\b\b\b\b\b\b\b\b\b\b\b\b\b\b\b\b\b\b\b\b\b\b\b\b\b\b\b\b\b\b\b\b\b\b\b\b\b\b\b\b\b\b\b\r333/333 [==============================] - 1375s 4s/step - loss: 1.5513 - acc: 0.3003 - val_loss: 1.3867 - val_acc: 0.4044 - lr: 0.0010\n",
            "Epoch 2/7\n",
            "333/333 [==============================] - ETA: 0s - loss: 1.3758 - acc: 0.3769\n",
            "Epoch 2: val_acc improved from 0.40436 to 0.47184, saving model to cnn+lastm-best_model.h5\n",
            "333/333 [==============================] - 1316s 4s/step - loss: 1.3758 - acc: 0.3769 - val_loss: 1.2908 - val_acc: 0.4718 - lr: 0.0010\n",
            "Epoch 3/7\n",
            "333/333 [==============================] - ETA: 0s - loss: 1.2909 - acc: 0.4191\n",
            "Epoch 3: val_acc improved from 0.47184 to 0.50413, saving model to cnn+lastm-best_model.h5\n",
            "333/333 [==============================] - 1334s 4s/step - loss: 1.2909 - acc: 0.4191 - val_loss: 1.2065 - val_acc: 0.5041 - lr: 0.0010\n",
            "Epoch 4/7\n",
            "333/333 [==============================] - ETA: 0s - loss: 1.2123 - acc: 0.4611\n",
            "Epoch 4: val_acc improved from 0.50413 to 0.53698, saving model to cnn+lastm-best_model.h5\n",
            "333/333 [==============================] - 1299s 4s/step - loss: 1.2123 - acc: 0.4611 - val_loss: 1.1406 - val_acc: 0.5370 - lr: 0.0010\n",
            "Epoch 5/7\n",
            "333/333 [==============================] - ETA: 0s - loss: 1.1065 - acc: 0.5195\n",
            "Epoch 5: val_acc improved from 0.53698 to 0.60193, saving model to cnn+lastm-best_model.h5\n",
            "333/333 [==============================] - 1202s 4s/step - loss: 1.1065 - acc: 0.5195 - val_loss: 1.0569 - val_acc: 0.6019 - lr: 0.0010\n",
            "Epoch 6/7\n",
            "333/333 [==============================] - ETA: 0s - loss: 1.0115 - acc: 0.5696\n",
            "Epoch 6: val_acc improved from 0.60193 to 0.63319, saving model to cnn+lastm-best_model.h5\n",
            "333/333 [==============================] - 1180s 4s/step - loss: 1.0115 - acc: 0.5696 - val_loss: 0.9635 - val_acc: 0.6332 - lr: 0.0010\n",
            "Epoch 7/7\n",
            "333/333 [==============================] - ETA: 0s - loss: 0.9571 - acc: 0.5961\n",
            "Epoch 7: val_acc improved from 0.63319 to 0.65543, saving model to cnn+lastm-best_model.h5\n",
            "333/333 [==============================] - 1184s 4s/step - loss: 0.9571 - acc: 0.5961 - val_loss: 0.9421 - val_acc: 0.6554 - lr: 0.0010\n"
          ]
        }
      ],
      "source": [
        "history_cl = model_cl.fit(XX_train, y_train, epochs=epochs, batch_size=batch_size,validation_split=0.2, callbacks=callbacks)"
      ]
    },
    {
      "cell_type": "code",
      "execution_count": 19,
      "metadata": {
        "colab": {
          "base_uri": "https://localhost:8080/"
        },
        "id": "q8VoGJ4IjCgn",
        "outputId": "adffd2e2-ed06-47f4-b014-d5740b1886ab"
      },
      "outputs": [
        {
          "name": "stdout",
          "output_type": "stream",
          "text": [
            "333/333 [==============================] - ETA: 0s - loss: 0.9022 - acc: 0.6216\n",
            "Epoch 1: val_acc did not improve from 0.65543\n",
            "333/333 [==============================] - 1166s 4s/step - loss: 0.9022 - acc: 0.6216 - val_loss: 0.9041 - val_acc: 0.6449 - lr: 0.0010\n"
          ]
        }
      ],
      "source": [
        "history_cl = model_cl.fit(XX_train, y_train, epochs=1, batch_size=batch_size,validation_split=0.2, callbacks=callbacks)"
      ]
    },
    {
      "cell_type": "code",
      "execution_count": 20,
      "metadata": {
        "colab": {
          "base_uri": "https://localhost:8080/"
        },
        "id": "HP27tr5l0yH5",
        "outputId": "1135eae0-c281-452c-f028-686ec77bb84d"
      },
      "outputs": [
        {
          "name": "stdout",
          "output_type": "stream",
          "text": [
            "Test results - Loss: 0.9011300206184387 - Accuracy: 65.43335318565369%\n"
          ]
        }
      ],
      "source": [
        "results_4 = model_cl.evaluate(XX_test, y_test, verbose=False)\n",
        "print(f'Test results - Loss: {results_4[0]} - Accuracy: {100*results_4[1]}%')"
      ]
    },
    {
      "cell_type": "code",
      "execution_count": null,
      "metadata": {
        "colab": {
          "base_uri": "https://localhost:8080/"
        },
        "id": "dOhmlnVXgQn5",
        "outputId": "96785c30-ef2e-4428-bab3-3b7d655a2936"
      },
      "outputs": [],
      "source": [
        "import joblib\n",
        "\n",
        "# Save the model to a file\n",
        "model_file_path = 'NeuralNet(2).pkl'\n",
        "joblib.dump(model_cl, model_file_path)"
      ]
    },
    {
      "cell_type": "code",
      "execution_count": 30,
      "metadata": {
        "colab": {
          "base_uri": "https://localhost:8080/"
        },
        "id": "hZdWUGq4X3FQ",
        "outputId": "2e13d21d-3761-4535-c607-a8dadb532498"
      },
      "outputs": [
        {
          "name": "stdout",
          "output_type": "stream",
          "text": [
            "1/1 [==============================] - 0s 275ms/step\n",
            "Predicted Model: chatGPT\n"
          ]
        }
      ],
      "source": [
        "# Define a function to preprocess user input\n",
        "def preprocess_user_input(user_text):\n",
        "    # Clean and preprocess the text\n",
        "    cleaned_text = preprocess_text(user_text)  # Assuming preprocess_text is defined as in your previous code\n",
        "\n",
        "    # Tokenize and convert to sequence\n",
        "    sequence = tokenizer.texts_to_sequences([cleaned_text])\n",
        "\n",
        "    # Pad sequence to match model's input shape\n",
        "    padded_sequence = pad_sequences(sequence, maxlen=max_text_len)\n",
        "\n",
        "    return padded_sequence\n",
        "\n",
        "index_to_label = {\n",
        "    0: 'human',\n",
        "    1: 'chatGPT',\n",
        "    2: 'cohere',\n",
        "    3: 'davinci',\n",
        "    4: 'bloomz',\n",
        "    5: 'dolly'\n",
        "}\n",
        "\n",
        "# Sample user input text\n",
        "# user_text = \"\"\"\n",
        "# Martial arts, encompassing a diverse range of disciplines, are a fusion of physical prowess, mental discipline, and cultural heritage. They serve as a profound journey of self-discovery and personal growth, cultivating not only combat skills but also virtues like discipline, respect, and perseverance. From the fluid grace of Brazilian Jiu-Jitsu to the explosive power of Muay Thai and the meditative stillness of Tai Chi, martial arts offer a path to physical fitness, emotional balance, and spiritual harmony. Beyond the dojo, they inspire a deep respect for tradition and a global community of practitioners dedicated to the pursuit of excellence and self-improvement.\n",
        "# \"\"\"\n",
        "user_text = \"\"\"Blockchain technology, often touted as a revolutionary force, has permeated various industries, promising unparalleled security, transparency, and efficiency. At its core, blockchain is a decentralized ledger system, where transactions are recorded across a network of computers, or nodes, creating an immutable chain of data blocks.\n",
        "\n",
        "One of blockchain's most notable applications is in cryptocurrencies like Bitcoin and Ethereum. These digital currencies leverage blockchain to enable peer-to-peer transactions without the need for intermediaries like banks. Blockchain's decentralized nature ensures that transactions are secure, transparent, and resistant to tampering, providing users with a level of trust previously unseen in traditional financial systems.\n",
        "\n",
        "Beyond cryptocurrencies, blockchain finds utility in a myriad of sectors. In supply chain management, it offers a transparent and traceable record of goods from production to delivery, combating counterfeit products and ensuring authenticity. In healthcare, blockchain secures patient data, streamlines record-keeping, and facilitates interoperability between disparate systems, fostering more efficient and patient-centric care.\n",
        "\n",
        "Moreover, blockchain has the potential to revolutionize voting systems, intellectual property rights, and even the energy sector through the concept of decentralized energy grids. Smart contracts, self-executing contracts with the terms of the agreement directly written into code, automate and enforce agreements without the need for intermediaries, reducing costs and mitigating disputes.\n",
        "\n",
        "However, blockchain technology is not without its challenges. Scalability, energy consumption, and regulatory concerns are among the hurdles that must be addressed for widespread adoption. Additionally, while blockchain ensures data integrity, it does not guarantee data accuracy, as the information entered into the ledger is only as reliable as its source.\n",
        "\n",
        "Despite these challenges, the potential of blockchain to transform industries and empower individuals is undeniable. As research and development continue to advance, and as society grapples with the complexities of a digital age, blockchain stands poised to redefine the way we transact, collaborate, and trust in the modern world.\"\"\"\n",
        "# Preprocess user input\n",
        "user_input_sequence = preprocess_user_input(user_text)\n",
        "\n",
        "# Make prediction using the trained model\n",
        "predicted_probabilities = model_cl.predict(user_input_sequence)\n",
        "\n",
        "# Determine the predicted model based on the highest probability\n",
        "predicted_model_index = np.argmax(predicted_probabilities)\n",
        "predicted_model_label = index_to_label[predicted_model_index]\n",
        "\n",
        "# Print the predicted model label\n",
        "print(\"Predicted Model:\", predicted_model_label)"
      ]
    },
    {
      "cell_type": "code",
      "execution_count": null,
      "metadata": {
        "id": "qga5gpkXDE0C"
      },
      "outputs": [],
      "source": []
    }
  ],
  "metadata": {
    "accelerator": "GPU",
    "colab": {
      "gpuType": "T4",
      "provenance": []
    },
    "kernelspec": {
      "display_name": "Python 3",
      "name": "python3"
    },
    "language_info": {
      "codemirror_mode": {
        "name": "ipython",
        "version": 3
      },
      "file_extension": ".py",
      "mimetype": "text/x-python",
      "name": "python",
      "nbconvert_exporter": "python",
      "pygments_lexer": "ipython3",
      "version": "3.10.1"
    }
  },
  "nbformat": 4,
  "nbformat_minor": 0
}
